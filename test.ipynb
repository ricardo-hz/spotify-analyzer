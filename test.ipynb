{
 "cells": [
  {
   "cell_type": "code",
   "execution_count": null,
   "id": "887ef405",
   "metadata": {},
   "outputs": [
    {
     "name": "stdout",
     "output_type": "stream",
     "text": [
      "Done\n",
      "1824662930 ms\n",
      "1824662.93 seconds\n",
      "30411.048833333334 minutes\n",
      "506.85081388888887 hours\n",
      "(506, 51.04883333333191) hours_minutes\n",
      "21.11878391203704 days\n"
     ]
    }
   ],
   "source": [
    "import pandas as pd\n",
    "\n",
    "#What needs to be included in this method???\n",
    "def read_jsons():\n",
    "    i = 0\n",
    "    df = pd.DataFrame()\n",
    "    while True:\n",
    "        try:\n",
    "            temp_df = pd.read_json(f\"./spotify-account-data/StreamingHistory_music_{i}.json\")\n",
    "            i += 1\n",
    "            df = pd.concat([df, temp_df])\n",
    "        except FileNotFoundError as fnfe:\n",
    "            print(\"Done\")\n",
    "            return df\n",
    "\n",
    "df = read_jsons()\n",
    "df = df.drop(df[df.msPlayed < 25000].index)\n",
    "df\n",
    "\n",
    "def get_top_songs():\n",
    "    pass\n",
    "\n",
    "def get_top_artists():\n",
    "    pass\n",
    "\n",
    "def get_time_listened(df):\n",
    "    \"\"\"Returns a dictionary representing time listened\n",
    "    \"\"\"\n",
    "    time = 0\n",
    "    for row in df.itertuples(index=False):\n",
    "        time += row.msPlayed\n",
    "    \n",
    "    s = time / 1_000\n",
    "    m = time / 60_000\n",
    "    h = time / 3_600_000\n",
    "    d = time / 86_400_000\n",
    "    \n",
    "    time_dict = dict(ms = time, \n",
    "                seconds = s,\n",
    "                minutes = m,\n",
    "                hours = h, \n",
    "                hours_minutes = (int(h), (h - int(h)) * 60 ),\n",
    "                days = d,\n",
    "                )\n",
    "\n",
    "    \n",
    "    return time_dict\n",
    "\n",
    "time_listened = get_time_listened(df)\n",
    "\n",
    "for k, v in time_listened.items():\n",
    "    print(v, k)\n"
   ]
  }
 ],
 "metadata": {
  "kernelspec": {
   "display_name": "Python 3",
   "language": "python",
   "name": "python3"
  },
  "language_info": {
   "codemirror_mode": {
    "name": "ipython",
    "version": 3
   },
   "file_extension": ".py",
   "mimetype": "text/x-python",
   "name": "python",
   "nbconvert_exporter": "python",
   "pygments_lexer": "ipython3",
   "version": "3.13.1"
  }
 },
 "nbformat": 4,
 "nbformat_minor": 5
}
